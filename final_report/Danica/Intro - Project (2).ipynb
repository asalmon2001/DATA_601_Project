{
 "cells": [
  {
   "cell_type": "markdown",
   "id": "4fec4491-99c2-4574-a240-917dbc058b6b",
   "metadata": {},
   "source": [
    "# Introduction \n",
    "\n",
    "## Glossary of Terms\n",
    "**New Start**: measure of new residential construction\n",
    "\n",
    "**Building Permit**: refers to the final authorization to start work on a building project. Issued by, in this project, the City of Calgary. \n",
    "\n",
    "**Residential**: Designed for people to live in ​\n",
    "\n",
    "**Non-residential**: for commercial purposes (not for persons living space) ​\n",
    "\n",
    "**Employment rate**: The percentage of the labour force that is employed (has jobs)\n",
    "\n",
    "**Unemployment rate**: measures the share of workers in the labour force who do not currently have a job but are actively looking for work ​\n",
    "\n",
    "**Inflation**: A general increase in prices and the fall of purchasing value of money ​\n",
    "\n",
    "**CER**:Calgary Economic Region \n",
    "\n",
    "**Permit Values**: Permit Value is the total value of any type of construction submitted by the owner to the satisfaction of the Manager of Building and Inspections.\n",
    "\n",
    "**Additional Dwellings**: secondary suites, garage suites, basement suites, etcetera​\n",
    "\n",
    "**WorkClassGroup**: a column in the building permits data set that dictates the type of work being done: Demolition, New (new build), Improvement (changes to existing structures), Unspecified (eg – Fire alarm work)\n",
    "\n",
    "**Building Permit Types**: Categorised into 3 groups: residential (for living or housing purposes), non-residential (for commercial use), unspecified (does not fit into the other categories eg-fire alarm related construction)."
   ]
  },
  {
   "cell_type": "markdown",
   "id": "3b3ab147-abbc-4a09-8463-863d9a255526",
   "metadata": {},
   "source": [
    "## Domain\n",
    "\n",
    "The domain of our project is within the construction of Residential and non-residential buildings in Calgary. Calgary is currently experiencing a housing crisis both in access and affordability.  The recent Housing Needs Assessment published by the city of Calgary stated that 1 in 5 Calgary households are unable to afford where they currently live (The City of Calgary, 2023). Low vacancy rates, higher than normal rent increases, and escalating home prices are putting Calgary’s competitive advantage as one of the world’s most livable cities at risk (The City of Calgary, 2023). \n",
    "\n",
    "The purpose of the investigation is to explore the relationship, if there is one, between Monthly Economic Indicators and the Residential and Non-Residential building permit values between 2000 and 2023 (The City of Calgary, 2023). The investigation will be through 5 guiding questions: \n",
    "\n",
    " 1) How has the count of certain building permits changed through time? (covered by Alister)\n",
    " 2) What is the relationship between residential building permit value and different communities? (covered by Anne)\n",
    " 3) What is the relationship between unemployment and building permit values? (covered by Rozita)\n",
    " 4) What is the impact of the 2008 Financial crisis on building permit values and building permit types? (covered by Poonam)\n",
    " 5) How did COVID affect Building Permit Types and Work Class Groups in Calgary? (covered by Danica)"
   ]
  },
  {
   "cell_type": "markdown",
   "id": "bc46fdc5-bfc9-4692-a4d5-46f7b48392a6",
   "metadata": {},
   "source": [
    "## Data Set\n",
    "\n",
    "This project covers two main data sets, Building Permits and Monthly Economic Indicators both available on Open Calgary (The City of Calgary, 2023). Per the Open Calgary terms of use, the data is free to use, re-use and redistribute without any legal, technological or social restriction (The City of Calgary, 2023). Each data set contains structured data in a tabular format. The necessary data was exported from Open Calgary into csv and zip files by each team member in line with their guiding question.. \n",
    "\n",
    "**Monthly Economic Indicators** (The City of Calgary, 2023) contains numerical data about economic indicators, such as employment and inflation rate, collected on a month-by-month basis. The data ranges from January 1972 and was last updated in July 2023. The data between 1972 and 2000 is not complete in each column (for reasons unknown) so this project will be focusing on the data between the year 2000 and 2023. This dataset contains 14 columns and 619 rows of numerical data. The columns include unemployment rates (Canada, Alberta, Calgary), Calgary total employment per 1000 persons, Calgary total employment change per 1000 persons (month-over-month and year-over-year), inflation rate and Calgary average hourly wage. Columns related to building permit values are both residential and non-residential building permit values, measured in dollars. Total housing is measured month-over-month and counts the number of residential housing projects started; there are two columns for total housing for projects within Calgary and projects in the Calgary Metropolitan Area (CMA). \n",
    " \n",
    "\n",
    "**Building Permits** (The City of Calgary, 2023) contains numerical and categorical data about the permit type, permit class, type of work, applicant information, estimated project cost, total square feet, and location data. The data has 30 columns and 424,000 rows with data beginning in 1999 and last updated on September 4, 2023.There is also meta-data about the permits such as the permit number, status, application date, issued date, and completion date. Each permit class has an associated code (ie. 1106 is Single Family House). Type of work includes whether the building permit is for new development (ie. new homes) or alterations (ie. building a deck). There is a variety of location data such as latitude and longitude, community name, and street address."
   ]
  },
  {
   "cell_type": "markdown",
   "id": "2ea5d9b1-619e-4b7e-a216-caf1ad00aee2",
   "metadata": {},
   "source": [
    "## References ##\n",
    "\n",
    "The City of Calgary (2023). Annual residential and non-residential building permit values. https://data.calgary.ca/Business-and-Economic-Activity/Annual-residential-and-non-residential-building-pe/6yxr-86hm, [Retrieved September 16, 2023]​\n",
    "\n",
    "\n",
    "The City of Calgary (2023). Building Permits.https://data.calgary.ca/Business-and-Economic-Activity/Building-Permits/c2es-76ed, [Retrieved September 16, 2023]​\n",
    "​\n",
    "\n",
    "The City of Calgary (2023). Monthly Economic Indicators. https://data.calgary.ca/Business-and-Economic-Activity/Monthly-Economic-Indicators/7cvb-8ame, [Retrieved September 18, 2023]​\n",
    "\n",
    "​\n",
    "The City of Calgary (2023). Open Calgary Terms of Use. Calgary Open Data, data.calgary.ca/stories/s/u45n-7awa, [Retrieved September 22, 2023]​\n",
    "\n",
    "​\n",
    "The City of Calgary (2023). Housing Needs Assessment, 2023. file:///Users/admin/Downloads/housing-needs-assessment-2023%20(1).pdf [Retrieved on September 22, 2023]​\n",
    "\n",
    "​"
   ]
  },
  {
   "cell_type": "code",
   "execution_count": null,
   "id": "d4a12cd6-4dac-4da6-8ea4-36241a025203",
   "metadata": {},
   "outputs": [],
   "source": []
  }
 ],
 "metadata": {
  "kernelspec": {
   "display_name": "Python 3 (ipykernel)",
   "language": "python",
   "name": "python3"
  },
  "language_info": {
   "codemirror_mode": {
    "name": "ipython",
    "version": 3
   },
   "file_extension": ".py",
   "mimetype": "text/x-python",
   "name": "python",
   "nbconvert_exporter": "python",
   "pygments_lexer": "ipython3",
   "version": "3.10.8"
  }
 },
 "nbformat": 4,
 "nbformat_minor": 5
}
