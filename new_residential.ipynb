{
 "cells": [
  {
   "cell_type": "markdown",
   "id": "14730e11-f908-4eaa-8a44-339c772c7c3d",
   "metadata": {},
   "source": [
    "# 23/10/05\n",
    "\n",
    "Alister Salmon\n"
   ]
  },
  {
   "cell_type": "code",
   "execution_count": 2,
   "id": "860b1d8a-878d-446f-a31e-e89fa36133fa",
   "metadata": {},
   "outputs": [],
   "source": [
    "import pandas as pd\n",
    "import matplotlib.pyplot as plt"
   ]
  },
  {
   "cell_type": "code",
   "execution_count": 4,
   "id": "ebdb5a28-ea3e-48ff-a143-b210b0757bf9",
   "metadata": {},
   "outputs": [],
   "source": [
    "# Load the data\n",
    "path = 'data/raw/new/residential/'\n",
    "df_2000 = pd.read_csv(path + 'new_residential_2000.csv')\n",
    "df_2005 = pd.read_csv(path + 'new_residential_2005.csv')\n",
    "df_2010 = pd.read_csv(path + 'new_residential_2010.csv')\n",
    "df_2015 = pd.read_csv(path + 'new_residential_2015.csv')"
   ]
  },
  {
   "cell_type": "code",
   "execution_count": 5,
   "id": "96e08fb0-0250-40fb-96df-fda33bdfe0bf",
   "metadata": {},
   "outputs": [
    {
     "data": {
      "text/html": [
       "<div>\n",
       "<style scoped>\n",
       "    .dataframe tbody tr th:only-of-type {\n",
       "        vertical-align: middle;\n",
       "    }\n",
       "\n",
       "    .dataframe tbody tr th {\n",
       "        vertical-align: top;\n",
       "    }\n",
       "\n",
       "    .dataframe thead th {\n",
       "        text-align: right;\n",
       "    }\n",
       "</style>\n",
       "<table border=\"1\" class=\"dataframe\">\n",
       "  <thead>\n",
       "    <tr style=\"text-align: right;\">\n",
       "      <th></th>\n",
       "      <th>PermitNum</th>\n",
       "      <th>AppliedDate</th>\n",
       "      <th>PermitType</th>\n",
       "      <th>PermitTypeMapped</th>\n",
       "      <th>PermitClass</th>\n",
       "      <th>PermitClassGroup</th>\n",
       "      <th>PermitClassMapped</th>\n",
       "      <th>WorkClass</th>\n",
       "      <th>Description</th>\n",
       "    </tr>\n",
       "  </thead>\n",
       "  <tbody>\n",
       "    <tr>\n",
       "      <th>0</th>\n",
       "      <td>BP2000-00001</td>\n",
       "      <td>2000/01/02</td>\n",
       "      <td>Single Construction Permit</td>\n",
       "      <td>Building</td>\n",
       "      <td>1106 - Single Family House</td>\n",
       "      <td>Single Family</td>\n",
       "      <td>Residential</td>\n",
       "      <td>New</td>\n",
       "      <td>SFD,FIREPLACE,GARAGE,PORCH,</td>\n",
       "    </tr>\n",
       "    <tr>\n",
       "      <th>1</th>\n",
       "      <td>BP2000-00015</td>\n",
       "      <td>2000/01/03</td>\n",
       "      <td>Single Construction Permit</td>\n",
       "      <td>Building</td>\n",
       "      <td>1106 - Single Family House</td>\n",
       "      <td>Single Family</td>\n",
       "      <td>Residential</td>\n",
       "      <td>New</td>\n",
       "      <td>SFD,FIREPLACE,PORCH,</td>\n",
       "    </tr>\n",
       "    <tr>\n",
       "      <th>2</th>\n",
       "      <td>BP2000-00004</td>\n",
       "      <td>2000/01/03</td>\n",
       "      <td>Single Construction Permit</td>\n",
       "      <td>Building</td>\n",
       "      <td>1106 - Single Family House</td>\n",
       "      <td>Single Family</td>\n",
       "      <td>Residential</td>\n",
       "      <td>New</td>\n",
       "      <td>SFD,FIREPLACE,GARAGE,PORCH,</td>\n",
       "    </tr>\n",
       "    <tr>\n",
       "      <th>3</th>\n",
       "      <td>BP2000-00003</td>\n",
       "      <td>2000/01/03</td>\n",
       "      <td>Single Construction Permit</td>\n",
       "      <td>Building</td>\n",
       "      <td>1106 - Single Family House</td>\n",
       "      <td>Single Family</td>\n",
       "      <td>Residential</td>\n",
       "      <td>New</td>\n",
       "      <td>SFD,FIREPLACE,GARAGE,PORCH,</td>\n",
       "    </tr>\n",
       "    <tr>\n",
       "      <th>4</th>\n",
       "      <td>BP2000-00009</td>\n",
       "      <td>2000/01/03</td>\n",
       "      <td>Single Construction Permit</td>\n",
       "      <td>Building</td>\n",
       "      <td>1106 - Single Family House</td>\n",
       "      <td>Single Family</td>\n",
       "      <td>Residential</td>\n",
       "      <td>New</td>\n",
       "      <td>SFD,FIREPLACE,GARAGE,DECK,PORCH,</td>\n",
       "    </tr>\n",
       "    <tr>\n",
       "      <th>...</th>\n",
       "      <td>...</td>\n",
       "      <td>...</td>\n",
       "      <td>...</td>\n",
       "      <td>...</td>\n",
       "      <td>...</td>\n",
       "      <td>...</td>\n",
       "      <td>...</td>\n",
       "      <td>...</td>\n",
       "      <td>...</td>\n",
       "    </tr>\n",
       "    <tr>\n",
       "      <th>45620</th>\n",
       "      <td>BP2004-16952</td>\n",
       "      <td>2004/12/30</td>\n",
       "      <td>Single Construction Permit</td>\n",
       "      <td>Building</td>\n",
       "      <td>1106 - Single Family House</td>\n",
       "      <td>Single Family</td>\n",
       "      <td>Residential</td>\n",
       "      <td>New</td>\n",
       "      <td>SFD,FIREPLACE,GARAGE,PORCH,</td>\n",
       "    </tr>\n",
       "    <tr>\n",
       "      <th>45621</th>\n",
       "      <td>BP2004-16968</td>\n",
       "      <td>2004/12/30</td>\n",
       "      <td>Single Construction Permit</td>\n",
       "      <td>Building</td>\n",
       "      <td>1106 - Single Family House</td>\n",
       "      <td>Single Family</td>\n",
       "      <td>Residential</td>\n",
       "      <td>New</td>\n",
       "      <td>SFD,BSMT-DEV,FIREPLACE,GARAGE,DECK,PORCH,</td>\n",
       "    </tr>\n",
       "    <tr>\n",
       "      <th>45622</th>\n",
       "      <td>BP2004-16972</td>\n",
       "      <td>2004/12/30</td>\n",
       "      <td>Single Construction Permit</td>\n",
       "      <td>Building</td>\n",
       "      <td>1106 - Single Family House</td>\n",
       "      <td>Single Family</td>\n",
       "      <td>Residential</td>\n",
       "      <td>New</td>\n",
       "      <td>SFD,FIREPLACE,DECK,PORCH,</td>\n",
       "    </tr>\n",
       "    <tr>\n",
       "      <th>45623</th>\n",
       "      <td>BP2004-16969</td>\n",
       "      <td>2004/12/30</td>\n",
       "      <td>Single Construction Permit</td>\n",
       "      <td>Building</td>\n",
       "      <td>1106 - Single Family House</td>\n",
       "      <td>Single Family</td>\n",
       "      <td>Residential</td>\n",
       "      <td>New</td>\n",
       "      <td>SFD,FIREPLACE,GARAGE,PORCH,BSMT-DEV,</td>\n",
       "    </tr>\n",
       "    <tr>\n",
       "      <th>45624</th>\n",
       "      <td>BP2004-16963</td>\n",
       "      <td>2004/12/30</td>\n",
       "      <td>Single Construction Permit</td>\n",
       "      <td>Building</td>\n",
       "      <td>1106 - Single Family House</td>\n",
       "      <td>Single Family</td>\n",
       "      <td>Residential</td>\n",
       "      <td>New</td>\n",
       "      <td>SFD,FIREPLACE,GARAGE,DECK,PORCH,</td>\n",
       "    </tr>\n",
       "  </tbody>\n",
       "</table>\n",
       "<p>45625 rows × 9 columns</p>\n",
       "</div>"
      ],
      "text/plain": [
       "          PermitNum AppliedDate                  PermitType PermitTypeMapped  \\\n",
       "0      BP2000-00001  2000/01/02  Single Construction Permit         Building   \n",
       "1      BP2000-00015  2000/01/03  Single Construction Permit         Building   \n",
       "2      BP2000-00004  2000/01/03  Single Construction Permit         Building   \n",
       "3      BP2000-00003  2000/01/03  Single Construction Permit         Building   \n",
       "4      BP2000-00009  2000/01/03  Single Construction Permit         Building   \n",
       "...             ...         ...                         ...              ...   \n",
       "45620  BP2004-16952  2004/12/30  Single Construction Permit         Building   \n",
       "45621  BP2004-16968  2004/12/30  Single Construction Permit         Building   \n",
       "45622  BP2004-16972  2004/12/30  Single Construction Permit         Building   \n",
       "45623  BP2004-16969  2004/12/30  Single Construction Permit         Building   \n",
       "45624  BP2004-16963  2004/12/30  Single Construction Permit         Building   \n",
       "\n",
       "                      PermitClass PermitClassGroup PermitClassMapped  \\\n",
       "0      1106 - Single Family House    Single Family       Residential   \n",
       "1      1106 - Single Family House    Single Family       Residential   \n",
       "2      1106 - Single Family House    Single Family       Residential   \n",
       "3      1106 - Single Family House    Single Family       Residential   \n",
       "4      1106 - Single Family House    Single Family       Residential   \n",
       "...                           ...              ...               ...   \n",
       "45620  1106 - Single Family House    Single Family       Residential   \n",
       "45621  1106 - Single Family House    Single Family       Residential   \n",
       "45622  1106 - Single Family House    Single Family       Residential   \n",
       "45623  1106 - Single Family House    Single Family       Residential   \n",
       "45624  1106 - Single Family House    Single Family       Residential   \n",
       "\n",
       "      WorkClass                                Description  \n",
       "0           New                SFD,FIREPLACE,GARAGE,PORCH,  \n",
       "1           New                       SFD,FIREPLACE,PORCH,  \n",
       "2           New                SFD,FIREPLACE,GARAGE,PORCH,  \n",
       "3           New                SFD,FIREPLACE,GARAGE,PORCH,  \n",
       "4           New           SFD,FIREPLACE,GARAGE,DECK,PORCH,  \n",
       "...         ...                                        ...  \n",
       "45620       New                SFD,FIREPLACE,GARAGE,PORCH,  \n",
       "45621       New  SFD,BSMT-DEV,FIREPLACE,GARAGE,DECK,PORCH,  \n",
       "45622       New                  SFD,FIREPLACE,DECK,PORCH,  \n",
       "45623       New       SFD,FIREPLACE,GARAGE,PORCH,BSMT-DEV,  \n",
       "45624       New           SFD,FIREPLACE,GARAGE,DECK,PORCH,  \n",
       "\n",
       "[45625 rows x 9 columns]"
      ]
     },
     "metadata": {},
     "output_type": "display_data"
    }
   ],
   "source": [
    "# preview\n",
    "display(df_2000)"
   ]
  },
  {
   "cell_type": "markdown",
   "id": "520ca246-0718-48e8-93f6-f2eaa2f53d84",
   "metadata": {},
   "source": [
    "## Total New Residential"
   ]
  },
  {
   "cell_type": "code",
   "execution_count": 6,
   "id": "d384407a-e4d3-47c8-a8fd-8d24757c27fb",
   "metadata": {},
   "outputs": [],
   "source": [
    "# Get the number of demolitions in each half-decade\n",
    "count_2000 = df_2000.shape[0]\n",
    "count_2005 = df_2005.shape[0]\n",
    "count_2010 = df_2010.shape[0]\n",
    "count_2015 = df_2015.shape[0]"
   ]
  },
  {
   "cell_type": "code",
   "execution_count": 7,
   "id": "3f46c646-3740-4741-8406-2e7fcd53944a",
   "metadata": {},
   "outputs": [],
   "source": [
    "# Create our series\n",
    "series = pd.Series([count_2000, count_2005, count_2010, count_2015])\n",
    "series.rename({0:2000, 1:2005, 2:2010, 3:2015}, inplace=True)"
   ]
  },
  {
   "cell_type": "code",
   "execution_count": 8,
   "id": "79226158-2c1a-4c8c-9f6f-03550339c56b",
   "metadata": {},
   "outputs": [
    {
     "data": {
      "text/plain": [
       "<Axes: title={'center': 'Number of New Residential Permits Applied for'}>"
      ]
     },
     "execution_count": 8,
     "metadata": {},
     "output_type": "execute_result"
    },
    {
     "data": {
      "image/png": "[encoded data removed]",
      "text/plain": [
       "<Figure size 640x480 with 1 Axes>"
      ]
     },
     "metadata": {},
     "output_type": "display_data"
    }
   ],
   "source": [
    "series.plot(kind='bar', x='Half-Decade Start', title='Number of New Residential Permits Applied for')"
   ]
  },
  {
   "cell_type": "markdown",
   "id": "db1bbe51-f8ae-466b-b539-e93f63bf2277",
   "metadata": {},
   "source": [
    "# 23/10/07"
   ]
  },
  {
   "cell_type": "code",
   "execution_count": 4,
   "id": "6e525ed3-97ff-45c5-8bc8-87ed4de936e0",
   "metadata": {},
   "outputs": [],
   "source": [
    "df = pd.read_csv('data/raw/new/residential/new_residential.csv')"
   ]
  },
  {
   "cell_type": "code",
   "execution_count": 5,
   "id": "ba7a9076-b387-4604-b1a3-839be62a3296",
   "metadata": {},
   "outputs": [],
   "source": [
    "df['AppliedDate'] = pd.to_datetime(df['AppliedDate'])"
   ]
  },
  {
   "cell_type": "code",
   "execution_count": 9,
   "id": "8ac665a7-2070-4ab1-abab-34bacf10044a",
   "metadata": {},
   "outputs": [
    {
     "data": {
      "image/png": "[encoded data removed]",
      "text/plain": [
       "<Figure size 640x480 with 1 Axes>"
      ]
     },
     "metadata": {},
     "output_type": "display_data"
    }
   ],
   "source": [
    "plt.hist(x='AppliedDate', bins=12, data=df)\n",
    "plt.title('New Residential Permits Applied for')\n",
    "plt.xlabel('Applied Date')\n",
    "plt.ylabel('Number of Permits')\n",
    "plt.savefig('figures/new_residential_hist.png')"
   ]
  },
  {
   "cell_type": "markdown",
   "id": "ed5aa1aa-f5c0-4280-84dd-2dedd2daa6e4",
   "metadata": {},
   "source": [
    "Now, lets further investigate the permit classes"
   ]
  },
  {
   "cell_type": "code",
   "execution_count": 10,
   "id": "1daca246-31b9-424c-ad81-71d37a022505",
   "metadata": {},
   "outputs": [],
   "source": [
    "permit_classes_unique = df['PermitClass'].unique()"
   ]
  },
  {
   "cell_type": "code",
   "execution_count": 11,
   "id": "fe860482-55f0-45ee-934a-50b410031c85",
   "metadata": {},
   "outputs": [
    {
     "data": {
      "text/plain": [
       "array(['1106 - Single Family House',\n",
       "       '1407 - Two Family Semi-Detached (1 Unit)',\n",
       "       '1301 - Private Detached Garage',\n",
       "       '1113 - Detached Garage Dwelling Unit', '1110 - Below Grade Suite',\n",
       "       '1606 - Ths Townhouse', '1508 - Apt Fourplex',\n",
       "       '9999 - Unspecified', '1406 - Two Family Duplex (Up/Down)',\n",
       "       '1506 - Apt Apartment', '1302 - Carport', '1706 - Rhs Rowhouse',\n",
       "       '1101 - Improvements (Single Family)',\n",
       "       '1199 -  Accessory Building', '1114 - Detached Garden Suite',\n",
       "       '1103 - Solid Fuel Fireplace', '1501 - Apt Improvements',\n",
       "       '1302 - Private Carport', '1112 - Attached Above',\n",
       "       '1405 - Tfy Retaining Wall', '1301 - Detached Garage',\n",
       "       '1101 - Basement Development', '1102 - Carport',\n",
       "       '1111 - Attached At Grade', '1407 - Tfy Semi Detached (1 Unit)',\n",
       "       '1408 - Tfy Semi Detached (2 Unit)',\n",
       "       '1799 - Rhs Accessory Building', '1104 - Deck',\n",
       "       '1507 - Apt Triplex', '1499 - Accessory Building',\n",
       "       '1699 - Ths Accessory Building', '1599 - Apt Accessory Building',\n",
       "       '1406 - Tfy Duplex (Up / Down)', '1601 - Basement Development',\n",
       "       '1304 - Deck', '1404 - Deck', '1106 - Addition',\n",
       "       '1301 - Basement Development', '1408 - Do Not Use On This Job',\n",
       "       '1699 - Accessory Building', '1115 - Hot Tub',\n",
       "       '1605 - Ths Retaining Wall', '1108 - Pre-Fab House',\n",
       "       '1106 - House', '1505 - Retaining Wall', '1306 - Addition',\n",
       "       '1401 - Tfy Improvements', '1201 - Private Swimming Pool',\n",
       "       '1499 - Tfy Accessory Building', '1501 - Improvements (Townhouse)',\n",
       "       '1303 - Solid Fuel Fireplace', '1401 - Improvements (Two Family)',\n",
       "       '1606 - Addition', '1406 - Addition', '1505 - Apt Retaining Wall',\n",
       "       '1601 - Ths Improvements', '1599 - Accessory Building',\n",
       "       '1201 - Hot Tub', '1601 - Improvements (Apartment)',\n",
       "       '1403 - Fireplace', '1502 - Conversion',\n",
       "       '1112 - Attached Above Grade Suite',\n",
       "       '1111 - Attached At Grade Suite', '1604 - Deck',\n",
       "       '1605 - Retaining Wall', '1401 - Basement Development',\n",
       "       '1199 - Accessory Building', '1602 - Carport',\n",
       "       '1109 -  Mobile Home', '1705 - Rhs Retaining Wall',\n",
       "       '1603 - Ths Fireplace', '1105 - Retaining Wall',\n",
       "       '1606 - Townhouse'], dtype=object)"
      ]
     },
     "metadata": {},
     "output_type": "display_data"
    }
   ],
   "source": [
    "display(permit_classes_unique)"
   ]
  },
  {
   "cell_type": "code",
   "execution_count": 13,
   "id": "aa523f64-bdbc-419f-a50c-96660bd4d042",
   "metadata": {},
   "outputs": [
    {
     "data": {
      "text/plain": [
       "(array([1.9582e+05, 2.3470e+03, 2.8900e+02, 4.9200e+02, 2.5800e+02,\n",
       "        9.6800e+02, 1.7300e+02, 2.9000e+01, 2.0000e+01, 2.1000e+01]),\n",
       " array([ 0. ,  7.2, 14.4, 21.6, 28.8, 36. , 43.2, 50.4, 57.6, 64.8, 72. ]),\n",
       " <BarContainer object of 10 artists>)"
      ]
     },
     "execution_count": 13,
     "metadata": {},
     "output_type": "execute_result"
    },
    {
     "data": {
      "image/png": "[encoded data removed]",
      "text/plain": [
       "<Figure size 640x480 with 1 Axes>"
      ]
     },
     "metadata": {},
     "output_type": "display_data"
    }
   ],
   "source": [
    "plt.hist(x='PermitClass', data=df)"
   ]
  },
  {
   "cell_type": "markdown",
   "id": "d91d7209-4272-4a09-930a-7e021fff785b",
   "metadata": {},
   "source": [
    "Oh thats fun. So most of the new residential permits are of two types. What are those types?"
   ]
  },
  {
   "cell_type": "code",
   "execution_count": 15,
   "id": "87022d05-df19-43a6-b6fa-d43ff9346b7b",
   "metadata": {},
   "outputs": [
    {
     "data": {
      "text/plain": [
       "PermitClass\n",
       "1106 - Single Family House                  118254\n",
       "1301 - Private Detached Garage               51942\n",
       "1407 - Two Family Semi-Detached (1 Unit)     17609\n",
       "1606 - Ths Townhouse                          4249\n",
       "1110 - Below Grade Suite                      1884\n",
       "                                             ...  \n",
       "1501 - Improvements (Townhouse)                  1\n",
       "1406 - Addition                                  1\n",
       "1403 - Fireplace                                 1\n",
       "1401 - Basement Development                      1\n",
       "1505 - Retaining Wall                            1\n",
       "Name: count, Length: 73, dtype: int64"
      ]
     },
     "execution_count": 15,
     "metadata": {},
     "output_type": "execute_result"
    }
   ],
   "source": [
    "df.value_counts('PermitClass')"
   ]
  },
  {
   "cell_type": "markdown",
   "id": "fe3adad1-6e87-469a-88cd-8b30938a3047",
   "metadata": {},
   "source": [
    "Lets do a histogram of `1106 - Single Family House` permits"
   ]
  },
  {
   "cell_type": "code",
   "execution_count": 21,
   "id": "97b892ef-8c05-4bd2-89b8-1da291d5620c",
   "metadata": {},
   "outputs": [],
   "source": [
    "df_single_family = df.groupby(['PermitClass']).get_group('1106 - Single Family House')"
   ]
  },
  {
   "cell_type": "code",
   "execution_count": 22,
   "id": "b17400fe-7e9f-4e17-a757-69efb1ce190d",
   "metadata": {},
   "outputs": [
    {
     "data": {
      "text/html": [
       "<div>\n",
       "<style scoped>\n",
       "    .dataframe tbody tr th:only-of-type {\n",
       "        vertical-align: middle;\n",
       "    }\n",
       "\n",
       "    .dataframe tbody tr th {\n",
       "        vertical-align: top;\n",
       "    }\n",
       "\n",
       "    .dataframe thead th {\n",
       "        text-align: right;\n",
       "    }\n",
       "</style>\n",
       "<table border=\"1\" class=\"dataframe\">\n",
       "  <thead>\n",
       "    <tr style=\"text-align: right;\">\n",
       "      <th></th>\n",
       "      <th>PermitNum</th>\n",
       "      <th>AppliedDate</th>\n",
       "      <th>PermitType</th>\n",
       "      <th>PermitClass</th>\n",
       "      <th>PermitClassGroup</th>\n",
       "      <th>PermitClassMapped</th>\n",
       "      <th>WorkClass</th>\n",
       "      <th>Description</th>\n",
       "    </tr>\n",
       "  </thead>\n",
       "  <tbody>\n",
       "    <tr>\n",
       "      <th>0</th>\n",
       "      <td>BP2022-18074</td>\n",
       "      <td>2022-10-26</td>\n",
       "      <td>Single Construction Permit</td>\n",
       "      <td>1106 - Single Family House</td>\n",
       "      <td>Single Family</td>\n",
       "      <td>Residential</td>\n",
       "      <td>New</td>\n",
       "      <td>SFD,BSMT-DEV,FIREPLACE,</td>\n",
       "    </tr>\n",
       "    <tr>\n",
       "      <th>2</th>\n",
       "      <td>BP2022-18098</td>\n",
       "      <td>2022-10-27</td>\n",
       "      <td>Single Construction Permit</td>\n",
       "      <td>1106 - Single Family House</td>\n",
       "      <td>Single Family</td>\n",
       "      <td>Residential</td>\n",
       "      <td>New</td>\n",
       "      <td>SFD,FIREPLACE,GARAGE,DECK,PORCH,</td>\n",
       "    </tr>\n",
       "    <tr>\n",
       "      <th>3</th>\n",
       "      <td>BP2022-06036</td>\n",
       "      <td>2022-04-14</td>\n",
       "      <td>Single Construction Permit</td>\n",
       "      <td>1106 - Single Family House</td>\n",
       "      <td>Single Family</td>\n",
       "      <td>Residential</td>\n",
       "      <td>New</td>\n",
       "      <td>SFD,GARAGE,PORCH,</td>\n",
       "    </tr>\n",
       "    <tr>\n",
       "      <th>4</th>\n",
       "      <td>BP2022-18467</td>\n",
       "      <td>2022-11-04</td>\n",
       "      <td>Single Construction Permit</td>\n",
       "      <td>1106 - Single Family House</td>\n",
       "      <td>Single Family</td>\n",
       "      <td>Residential</td>\n",
       "      <td>New</td>\n",
       "      <td>SFD,PORCH,SSuite</td>\n",
       "    </tr>\n",
       "    <tr>\n",
       "      <th>6</th>\n",
       "      <td>BP2022-18242</td>\n",
       "      <td>2022-10-31</td>\n",
       "      <td>Single Construction Permit</td>\n",
       "      <td>1106 - Single Family House</td>\n",
       "      <td>Single Family</td>\n",
       "      <td>Residential</td>\n",
       "      <td>New</td>\n",
       "      <td>SFD,BSMT-DEV,FIREPLACE,GARAGE,DECK,PORCH,</td>\n",
       "    </tr>\n",
       "    <tr>\n",
       "      <th>...</th>\n",
       "      <td>...</td>\n",
       "      <td>...</td>\n",
       "      <td>...</td>\n",
       "      <td>...</td>\n",
       "      <td>...</td>\n",
       "      <td>...</td>\n",
       "      <td>...</td>\n",
       "      <td>...</td>\n",
       "    </tr>\n",
       "    <tr>\n",
       "      <th>200405</th>\n",
       "      <td>BP2022-17099</td>\n",
       "      <td>2022-10-07</td>\n",
       "      <td>Single Construction Permit</td>\n",
       "      <td>1106 - Single Family House</td>\n",
       "      <td>Single Family</td>\n",
       "      <td>Residential</td>\n",
       "      <td>New</td>\n",
       "      <td>SFD,PORCH,</td>\n",
       "    </tr>\n",
       "    <tr>\n",
       "      <th>200408</th>\n",
       "      <td>BP2021-19487</td>\n",
       "      <td>2021-11-11</td>\n",
       "      <td>Single Construction Permit</td>\n",
       "      <td>1106 - Single Family House</td>\n",
       "      <td>Single Family</td>\n",
       "      <td>Residential</td>\n",
       "      <td>New</td>\n",
       "      <td>SFD,GARAGE,PORCH,</td>\n",
       "    </tr>\n",
       "    <tr>\n",
       "      <th>200411</th>\n",
       "      <td>BP2022-15414</td>\n",
       "      <td>2022-09-08</td>\n",
       "      <td>Single Construction Permit</td>\n",
       "      <td>1106 - Single Family House</td>\n",
       "      <td>Single Family</td>\n",
       "      <td>Residential</td>\n",
       "      <td>New</td>\n",
       "      <td>SFD,BSMT-DEV,FIREPLACE,GARAGE,PORCH,</td>\n",
       "    </tr>\n",
       "    <tr>\n",
       "      <th>200415</th>\n",
       "      <td>BP2022-16420</td>\n",
       "      <td>2022-09-26</td>\n",
       "      <td>Single Construction Permit</td>\n",
       "      <td>1106 - Single Family House</td>\n",
       "      <td>Single Family</td>\n",
       "      <td>Residential</td>\n",
       "      <td>New</td>\n",
       "      <td>SFD,BSMT-DEV,FIREPLACE,DECK,PORCH,</td>\n",
       "    </tr>\n",
       "    <tr>\n",
       "      <th>200416</th>\n",
       "      <td>BP2021-20586</td>\n",
       "      <td>2021-12-02</td>\n",
       "      <td>Single Construction Permit</td>\n",
       "      <td>1106 - Single Family House</td>\n",
       "      <td>Single Family</td>\n",
       "      <td>Residential</td>\n",
       "      <td>New</td>\n",
       "      <td>SFD,GARAGE,PORCH,</td>\n",
       "    </tr>\n",
       "  </tbody>\n",
       "</table>\n",
       "<p>118254 rows × 8 columns</p>\n",
       "</div>"
      ],
      "text/plain": [
       "           PermitNum AppliedDate                  PermitType  \\\n",
       "0       BP2022-18074  2022-10-26  Single Construction Permit   \n",
       "2       BP2022-18098  2022-10-27  Single Construction Permit   \n",
       "3       BP2022-06036  2022-04-14  Single Construction Permit   \n",
       "4       BP2022-18467  2022-11-04  Single Construction Permit   \n",
       "6       BP2022-18242  2022-10-31  Single Construction Permit   \n",
       "...              ...         ...                         ...   \n",
       "200405  BP2022-17099  2022-10-07  Single Construction Permit   \n",
       "200408  BP2021-19487  2021-11-11  Single Construction Permit   \n",
       "200411  BP2022-15414  2022-09-08  Single Construction Permit   \n",
       "200415  BP2022-16420  2022-09-26  Single Construction Permit   \n",
       "200416  BP2021-20586  2021-12-02  Single Construction Permit   \n",
       "\n",
       "                       PermitClass PermitClassGroup PermitClassMapped  \\\n",
       "0       1106 - Single Family House    Single Family       Residential   \n",
       "2       1106 - Single Family House    Single Family       Residential   \n",
       "3       1106 - Single Family House    Single Family       Residential   \n",
       "4       1106 - Single Family House    Single Family       Residential   \n",
       "6       1106 - Single Family House    Single Family       Residential   \n",
       "...                            ...              ...               ...   \n",
       "200405  1106 - Single Family House    Single Family       Residential   \n",
       "200408  1106 - Single Family House    Single Family       Residential   \n",
       "200411  1106 - Single Family House    Single Family       Residential   \n",
       "200415  1106 - Single Family House    Single Family       Residential   \n",
       "200416  1106 - Single Family House    Single Family       Residential   \n",
       "\n",
       "       WorkClass                                Description  \n",
       "0            New                    SFD,BSMT-DEV,FIREPLACE,  \n",
       "2            New           SFD,FIREPLACE,GARAGE,DECK,PORCH,  \n",
       "3            New                          SFD,GARAGE,PORCH,  \n",
       "4            New                           SFD,PORCH,SSuite  \n",
       "6            New  SFD,BSMT-DEV,FIREPLACE,GARAGE,DECK,PORCH,  \n",
       "...          ...                                        ...  \n",
       "200405       New                                 SFD,PORCH,  \n",
       "200408       New                          SFD,GARAGE,PORCH,  \n",
       "200411       New       SFD,BSMT-DEV,FIREPLACE,GARAGE,PORCH,  \n",
       "200415       New         SFD,BSMT-DEV,FIREPLACE,DECK,PORCH,  \n",
       "200416       New                          SFD,GARAGE,PORCH,  \n",
       "\n",
       "[118254 rows x 8 columns]"
      ]
     },
     "metadata": {},
     "output_type": "display_data"
    }
   ],
   "source": [
    "display(df_single_family)"
   ]
  },
  {
   "cell_type": "code",
   "execution_count": 24,
   "id": "466eb304-f827-4ac2-a988-7e14120092bd",
   "metadata": {},
   "outputs": [
    {
     "data": {
      "image/png": "[encoded data removed]",
      "text/plain": [
       "<Figure size 640x480 with 1 Axes>"
      ]
     },
     "metadata": {},
     "output_type": "display_data"
    }
   ],
   "source": [
    "plt.hist(x='AppliedDate', data=df_single_family)\n",
    "plt.title('Number of Single Family House Permits Applied for in Calgary')\n",
    "plt.xlabel('Applied Date')\n",
    "plt.ylabel('Number of Permits')\n",
    "plt.savefig('figures/new_residential_single_family_hist.png')"
   ]
  },
  {
   "cell_type": "code",
   "execution_count": null,
   "id": "33ffa451-8182-4b1b-82b4-8282a88cfbd6",
   "metadata": {},
   "outputs": [],
   "source": []
  }
 ],
 "metadata": {
  "kernelspec": {
   "display_name": "Python 3 (ipykernel)",
   "language": "python",
   "name": "python3"
  },
  "language_info": {
   "codemirror_mode": {
    "name": "ipython",
    "version": 3
   },
   "file_extension": ".py",
   "mimetype": "text/x-python",
   "name": "python",
   "nbconvert_exporter": "python",
   "pygments_lexer": "ipython3",
   "version": "3.11.4"
  }
 },
 "nbformat": 4,
 "nbformat_minor": 5
}
