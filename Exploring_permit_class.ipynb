{
 "cells": [
  {
   "cell_type": "code",
   "execution_count": 6,
   "id": "cd7be125-b883-45af-a69b-66524b456d05",
   "metadata": {},
   "outputs": [],
   "source": [
    "import pandas as pd\n",
    "import numpy as np"
   ]
  },
  {
   "cell_type": "markdown",
   "id": "0c0c8d8c-894d-46af-9941-7f5f970e5a8a",
   "metadata": {},
   "source": [
    "# META\n",
    "\n",
    "# Introduction\n",
    "This file is used to wrangle the permit class types\n",
    "\n",
    "## Conclusion\n",
    "Was able to grab all the unique permit types and their respective codes. Exported them to a .csv under `data\\dict\\`. Left a function that can be used to see all the descriptions that are available for each permit code\n"
   ]
  },
  {
   "cell_type": "markdown",
   "id": "93fb4961-8d9c-44ba-9c23-92f17afc88f3",
   "metadata": {
    "jp-MarkdownHeadingCollapsed": true
   },
   "source": [
    "# Gather and load data\n",
    "I will be using the built-in query service on Open Data Calgary.\n",
    "\n",
    "Query description:\n",
    "- Kept rows `PermitNum`, `AppliedDate`, `PermitType`, `PermitTypeMapped`, `PermitClass`, `PermitClassGroup`, `PermitClassMapped`, `Description`\n",
    "- Sorted by `AppliedDate` ascending\n",
    "- Exported as `permit_classes.csv`"
   ]
  },
  {
   "cell_type": "code",
   "execution_count": 22,
   "id": "cd274f90-1170-4732-b8c2-bb86b9dae231",
   "metadata": {},
   "outputs": [
    {
     "data": {
      "text/html": [
       "<div>\n",
       "<style scoped>\n",
       "    .dataframe tbody tr th:only-of-type {\n",
       "        vertical-align: middle;\n",
       "    }\n",
       "\n",
       "    .dataframe tbody tr th {\n",
       "        vertical-align: top;\n",
       "    }\n",
       "\n",
       "    .dataframe thead th {\n",
       "        text-align: right;\n",
       "    }\n",
       "</style>\n",
       "<table border=\"1\" class=\"dataframe\">\n",
       "  <thead>\n",
       "    <tr style=\"text-align: right;\">\n",
       "      <th></th>\n",
       "      <th>PermitNum</th>\n",
       "      <th>AppliedDate</th>\n",
       "      <th>PermitType</th>\n",
       "      <th>PermitTypeMapped</th>\n",
       "      <th>PermitClass</th>\n",
       "      <th>PermitClassGroup</th>\n",
       "      <th>PermitClassMapped</th>\n",
       "      <th>Description</th>\n",
       "    </tr>\n",
       "  </thead>\n",
       "  <tbody>\n",
       "    <tr>\n",
       "      <th>0</th>\n",
       "      <td>BP1999-07500</td>\n",
       "      <td>1999/06/22</td>\n",
       "      <td>Single Construction Permit</td>\n",
       "      <td>Building</td>\n",
       "      <td>1106 - Single Family House</td>\n",
       "      <td>Single Family</td>\n",
       "      <td>Residential</td>\n",
       "      <td>SFD,FIREPLACE,GARAGE,</td>\n",
       "    </tr>\n",
       "    <tr>\n",
       "      <th>1</th>\n",
       "      <td>BP1999-07510</td>\n",
       "      <td>1999/06/23</td>\n",
       "      <td>Commercial / Multi Family Project</td>\n",
       "      <td>Building</td>\n",
       "      <td>4002 - Vacant</td>\n",
       "      <td>General</td>\n",
       "      <td>Non-Residential</td>\n",
       "      <td>THIS IS A GARBAGE PERMIT - jdh 99/07/02</td>\n",
       "    </tr>\n",
       "    <tr>\n",
       "      <th>2</th>\n",
       "      <td>BP1999-07520</td>\n",
       "      <td>1999/06/23</td>\n",
       "      <td>Single Construction Permit</td>\n",
       "      <td>Building</td>\n",
       "      <td>1106 - Single Family House</td>\n",
       "      <td>Single Family</td>\n",
       "      <td>Residential</td>\n",
       "      <td>SFD,FIREPLACE,GARAGE,PORCH,</td>\n",
       "    </tr>\n",
       "    <tr>\n",
       "      <th>3</th>\n",
       "      <td>BP1999-07558</td>\n",
       "      <td>1999/06/23</td>\n",
       "      <td>Residential Improvement Project</td>\n",
       "      <td>Building</td>\n",
       "      <td>1104 - Deck</td>\n",
       "      <td>Single Family</td>\n",
       "      <td>Residential</td>\n",
       "      <td>Deck</td>\n",
       "    </tr>\n",
       "    <tr>\n",
       "      <th>4</th>\n",
       "      <td>BP1999-07542</td>\n",
       "      <td>1999/06/23</td>\n",
       "      <td>Single Construction Permit</td>\n",
       "      <td>Building</td>\n",
       "      <td>1106 - Single Family House</td>\n",
       "      <td>Single Family</td>\n",
       "      <td>Residential</td>\n",
       "      <td>SFD,FIREPLACE,GARAGE,</td>\n",
       "    </tr>\n",
       "  </tbody>\n",
       "</table>\n",
       "</div>"
      ],
      "text/plain": [
       "      PermitNum AppliedDate                         PermitType  \\\n",
       "0  BP1999-07500  1999/06/22         Single Construction Permit   \n",
       "1  BP1999-07510  1999/06/23  Commercial / Multi Family Project   \n",
       "2  BP1999-07520  1999/06/23         Single Construction Permit   \n",
       "3  BP1999-07558  1999/06/23    Residential Improvement Project   \n",
       "4  BP1999-07542  1999/06/23         Single Construction Permit   \n",
       "\n",
       "  PermitTypeMapped                 PermitClass PermitClassGroup  \\\n",
       "0         Building  1106 - Single Family House    Single Family   \n",
       "1         Building               4002 - Vacant          General   \n",
       "2         Building  1106 - Single Family House    Single Family   \n",
       "3         Building                 1104 - Deck    Single Family   \n",
       "4         Building  1106 - Single Family House    Single Family   \n",
       "\n",
       "  PermitClassMapped                              Description  \n",
       "0       Residential                    SFD,FIREPLACE,GARAGE,  \n",
       "1   Non-Residential  THIS IS A GARBAGE PERMIT - jdh 99/07/02  \n",
       "2       Residential              SFD,FIREPLACE,GARAGE,PORCH,  \n",
       "3       Residential                                     Deck  \n",
       "4       Residential                    SFD,FIREPLACE,GARAGE,  "
      ]
     },
     "execution_count": 22,
     "metadata": {},
     "output_type": "execute_result"
    }
   ],
   "source": [
    "# Load permit_classes.csv\n",
    "source_df = pd.read_csv('data/raw/permit_classes.csv')\n",
    "source_df.head()"
   ]
  },
  {
   "cell_type": "code",
   "execution_count": 65,
   "id": "b01cd1da-74d6-4952-9e12-feecdf6c9f66",
   "metadata": {},
   "outputs": [
    {
     "data": {
      "text/plain": [
       "(324,)"
      ]
     },
     "execution_count": 65,
     "metadata": {},
     "output_type": "execute_result"
    }
   ],
   "source": [
    "# Get unique PermitClass code and put them into a list\n",
    "unique_permitclass = source_df['PermitClass'].unique()\n",
    "unique_permitclass.shape"
   ]
  },
  {
   "cell_type": "markdown",
   "id": "3c189606-be61-4208-b079-8760685f09e7",
   "metadata": {},
   "source": [
    "Now, I want a dictionary that shows me the permit code and what it means.\n",
    "To do this, I first want to separate the permit code and the description that is alongside it"
   ]
  },
  {
   "cell_type": "code",
   "execution_count": 41,
   "id": "1e77ec91-8315-4254-ac43-83d6f32d384a",
   "metadata": {},
   "outputs": [
    {
     "name": "stdout",
     "output_type": "stream",
     "text": [
      "         0                             1     2\n",
      "0     1106           Single Family House  None\n",
      "1     4002                        Vacant  None\n",
      "2     1104                          Deck  None\n",
      "3     1301       Private Detached Garage  None\n",
      "4     3605                    Food Kiosk  None\n",
      "..     ...                           ...   ...\n",
      "319   1111             Attached At Grade  None\n",
      "320   2502             Experimental Farm  None\n",
      "321  `1101  Improvements (Single Family)  None\n",
      "322   2307                  Railway Shop  None\n",
      "323   3202                Grain Elevator  None\n",
      "\n",
      "[324 rows x 3 columns]\n"
     ]
    }
   ],
   "source": [
    "permit_dict_list = []\n",
    "for permitclass in unique_permitclass :\n",
    "    permit_dict_list.append(str(permitclass).split(' - '))\n",
    "permit_dict_df = pd.DataFrame(permit_dict_list)\n",
    "print(permit_dict_df)"
   ]
  },
  {
   "cell_type": "markdown",
   "id": "b32d2e65-163e-499f-8e07-bb6b0f4fe527",
   "metadata": {},
   "source": [
    "So, we have an extra column that I was not expecting. Lets find those elements that are `None`. My guess is that it is something irrelevant but we should make sure"
   ]
  },
  {
   "cell_type": "code",
   "execution_count": 50,
   "id": "f83c18fd-0553-4d69-ad58-1597143b3cec",
   "metadata": {},
   "outputs": [
    {
     "name": "stdout",
     "output_type": "stream",
     "text": [
      "        0                      1                                    2\n",
      "81   3609             Restaurant                  Take-Out (No Seats)\n",
      "258  3613             Restaurant                             Licensed\n",
      "263  3614             Restaurant  Licensed And Drinking Establishment\n",
      "279  7102  Special Function Tent                         Recreational\n",
      "281  7101  Special Function Tent                           Commercial\n",
      "283  7103       Special Function                              Class 1\n",
      "296  7104       Special Function                              Class 2\n"
     ]
    }
   ],
   "source": [
    "print(permit_dict_df.dropna())"
   ]
  },
  {
   "cell_type": "markdown",
   "id": "908dd995-4216-4287-b5c2-54f5c4ed6bcc",
   "metadata": {},
   "source": [
    "Okay! We are good! Lets continue\n",
    "\n",
    "First, convert all the codes to `int` and compress the last two columns. We are going to do this by going backwards and recreating our `permit_dict_df`"
   ]
  },
  {
   "cell_type": "code",
   "execution_count": 105,
   "id": "4fe14806-7c58-4ae6-b71f-1727be712243",
   "metadata": {},
   "outputs": [
    {
     "name": "stdout",
     "output_type": "stream",
     "text": [
      "     permit_code                   permit_desc\n",
      "0           1106           Single Family House\n",
      "1           4002                        Vacant\n",
      "2           1104                          Deck\n",
      "3           1301       Private Detached Garage\n",
      "4           3605                    Food Kiosk\n",
      "..           ...                           ...\n",
      "318         1111             Attached At Grade\n",
      "319         2502             Experimental Farm\n",
      "320         1101  Improvements (Single Family)\n",
      "321         2307                  Railway Shop\n",
      "322         3202                Grain Elevator\n",
      "\n",
      "[323 rows x 2 columns]\n"
     ]
    }
   ],
   "source": [
    "permit_dict_list = []\n",
    "for permitclass in unique_permitclass :\n",
    "    insertion = str(permitclass).split(' - ')\n",
    "\n",
    "    # compressing the last two columns\n",
    "    if( len(insertion) > 2 ) :\n",
    "        desc = ' - '.join(insertion[1:])\n",
    "        insertion = [insertion[0], desc]\n",
    "\n",
    "    # converting to int\n",
    "    try : \n",
    "        insertion[0] = int(insertion[0])\n",
    "    except :\n",
    "        if insertion[0] == 'nan' : # I've had this rogue 'nan' at 271 that has no information.\n",
    "            continue\n",
    "        insertion[0] = int(''.join(digit for digit in insertion[0] if digit.isdigit()))\n",
    "    \n",
    "    permit_dict_list.append(insertion)\n",
    "\n",
    "permit_dict_df = pd.DataFrame(permit_dict_list, columns=['permit_code','permit_desc'])\n",
    "print(permit_dict_df)"
   ]
  },
  {
   "cell_type": "markdown",
   "id": "6fa03a38-22df-44c6-ab83-c6bb93fb8d2c",
   "metadata": {},
   "source": [
    "Now we can check how many unique codes there actually are"
   ]
  },
  {
   "cell_type": "code",
   "execution_count": 102,
   "id": "f9a51a8f-1529-499a-8638-25167af4cff7",
   "metadata": {},
   "outputs": [
    {
     "name": "stdout",
     "output_type": "stream",
     "text": [
      "264\n"
     ]
    }
   ],
   "source": [
    "unique_codes = permit_dict_df['permit_code'].unique()\n",
    "print(len(unique_codes))"
   ]
  },
  {
   "cell_type": "markdown",
   "id": "0819647d-7e36-4a28-b420-d1f6cf9f8f3f",
   "metadata": {},
   "source": [
    "A-ha! So there are actually only 264 unique codes! I want to remove the duplicates and sort it by `permit_code`"
   ]
  },
  {
   "cell_type": "code",
   "execution_count": 106,
   "id": "3c1e20ec-ab90-4c39-9951-2fa24b2df04d",
   "metadata": {},
   "outputs": [
    {
     "name": "stdout",
     "output_type": "stream",
     "text": [
      "     permit_code                           permit_desc\n",
      "5           1101                  Basement Development\n",
      "7           1102                               Carport\n",
      "25          1103                  Solid Fuel Fireplace\n",
      "2           1104                                  Deck\n",
      "52          1105                        Retaining Wall\n",
      "..           ...                                   ...\n",
      "235         7101    Special Function Tent - Commercial\n",
      "233         7102  Special Function Tent - Recreational\n",
      "237         7103            Special Function - Class 1\n",
      "246         7104            Special Function - Class 2\n",
      "124         9999                           Unspecified\n",
      "\n",
      "[264 rows x 2 columns]\n"
     ]
    }
   ],
   "source": [
    "permit_dict_df_slim = permit_dict_df.drop_duplicates(subset='permit_code', ignore_index=True).copy()\n",
    "permit_dict_df_slim.sort_values(by='permit_code', inplace=True)\n",
    "print(permit_dict_df_slim)"
   ]
  },
  {
   "cell_type": "markdown",
   "id": "4602be0e-d7fd-4578-bfd9-324d436b61dd",
   "metadata": {},
   "source": [
    "Now, some of the `permit_desc` will be too narrow of a description and maybe not encapsulate what the permit codes actually means.\n",
    "\n",
    "So, I will create a function that will print all the duplicates from the original `permit_dict_df`\n",
    "\n",
    "If I want to return to this and not have to run all of this stuff. I should export both of the `DataFrame`s and then import them when defining the function."
   ]
  },
  {
   "cell_type": "code",
   "execution_count": 109,
   "id": "4d2a50c4-5368-4556-9d02-3fb94b73ce9f",
   "metadata": {},
   "outputs": [],
   "source": [
    "permit_dict_df.to_csv('data/dict/permit_class.csv')\n",
    "permit_dict_df_slim.to_csv('data/dict/permit_class_slim.csv')"
   ]
  },
  {
   "cell_type": "markdown",
   "id": "4ca971a4-de7a-4662-bca9-149126aafcff",
   "metadata": {},
   "source": [
    "# Code to return to"
   ]
  },
  {
   "cell_type": "code",
   "execution_count": 125,
   "id": "668a3740-7eb0-4858-9541-b187e9519ef3",
   "metadata": {},
   "outputs": [],
   "source": [
    "permit_dict_df = pd.read_csv('data/dict/permit_class.csv')\n",
    "permit_dict_df_slim = pd.read_csv('data/dict/permit_class_slim.csv')\n",
    "\n",
    "def printPermitCodeDescriptions(code) :\n",
    "    print(permit_dict_df.loc[permit_dict_df['permit_code'] == code])"
   ]
  },
  {
   "cell_type": "code",
   "execution_count": 131,
   "id": "03f0e0ea-00f8-42b0-a2ae-a0ce283a559d",
   "metadata": {},
   "outputs": [
    {
     "name": "stdout",
     "output_type": "stream",
     "text": [
      "    Unnamed: 0  permit_code          permit_desc\n",
      "0            0         1106  Single Family House\n",
      "9            9         1106             Addition\n",
      "34          34         1106                House\n"
     ]
    }
   ],
   "source": [
    "printPermitCodeDescriptions(1106)"
   ]
  },
  {
   "cell_type": "code",
   "execution_count": null,
   "id": "9aab562e-2a04-4e00-8c46-714ffaf0e36d",
   "metadata": {},
   "outputs": [],
   "source": []
  }
 ],
 "metadata": {
  "kernelspec": {
   "display_name": "Python 3 (ipykernel)",
   "language": "python",
   "name": "python3"
  },
  "language_info": {
   "codemirror_mode": {
    "name": "ipython",
    "version": 3
   },
   "file_extension": ".py",
   "mimetype": "text/x-python",
   "name": "python",
   "nbconvert_exporter": "python",
   "pygments_lexer": "ipython3",
   "version": "3.11.4"
  }
 },
 "nbformat": 4,
 "nbformat_minor": 5
}
